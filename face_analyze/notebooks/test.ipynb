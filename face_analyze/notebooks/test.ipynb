{
 "cells": [
  {
   "cell_type": "code",
   "execution_count": null,
   "id": "initial_id",
   "metadata": {
    "collapsed": true
   },
   "outputs": [],
   "source": [
    "import requests\n",
    "import base64\n",
    "import json\n",
    "\n",
    "# Read the image and encode it to base64\n",
    "with open(\"dataset/1.png\", \"rb\") as img_file:\n",
    "    encoded_image = base64.b64encode(img_file.read()).decode(\"utf-8\")\n",
    "\n",
    "# Create the payload in dataframe_split format\n",
    "payload = {\n",
    "    \"dataframe_split\": {\n",
    "        \"columns\": [\"image_bytes\"],\n",
    "        \"data\": [[encoded_image]]\n",
    "    }\n",
    "}\n",
    "\n",
    "# Send request to the MLflow model server\n",
    "response = requests.post(\"http://localhost:5003/invocations\", json=payload)\n",
    "\n",
    "# Print the result\n",
    "print(json.dumps(response.json(), indent=2))\n"
   ]
  }
 ],
 "metadata": {
  "kernelspec": {
   "display_name": "Python 3",
   "language": "python",
   "name": "python3"
  },
  "language_info": {
   "codemirror_mode": {
    "name": "ipython",
    "version": 2
   },
   "file_extension": ".py",
   "mimetype": "text/x-python",
   "name": "python",
   "nbconvert_exporter": "python",
   "pygments_lexer": "ipython2",
   "version": "2.7.6"
  }
 },
 "nbformat": 4,
 "nbformat_minor": 5
}
