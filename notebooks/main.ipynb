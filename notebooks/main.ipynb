{
 "cells": [
  {
   "metadata": {
    "ExecuteTime": {
     "end_time": "2024-11-02T16:15:33.746315Z",
     "start_time": "2024-11-02T16:15:23.800220Z"
    }
   },
   "cell_type": "code",
   "source": [
    "import requests\n",
    "import base64\n",
    "import json\n",
    "\n",
    "# Read the image and encode it to base64\n",
    "with open(\"dataset/1.png\", \"rb\") as img_file:\n",
    "    encoded_image = base64.b64encode(img_file.read()).decode(\"utf-8\")\n",
    "\n",
    "# Create the payload in dataframe_split format\n",
    "payload = {\n",
    "    \"dataframe_split\": {\n",
    "        \"columns\": [\"image_bytes\"],\n",
    "        \"data\": [[encoded_image]]\n",
    "    }\n",
    "}\n",
    "\n",
    "# Send request to the MLflow model server\n",
    "response = requests.post(\"http://localhost:5005/invocations\", json=payload)\n",
    "\n",
    "# Print the result\n",
    "print(json.dumps(response.json(), indent=2))\n"
   ],
   "id": "3051b32420ab19c0",
   "outputs": [
    {
     "name": "stdout",
     "output_type": "stream",
     "text": [
      "{\n",
      "  \"predictions\": [\n",
      "    {\n",
      "      \"0\": {\n",
      "        \"age\": 24,\n",
      "        \"region\": {\n",
      "          \"x\": 1128,\n",
      "          \"y\": 723,\n",
      "          \"w\": 1540,\n",
      "          \"h\": 1540,\n",
      "          \"left_eye\": [\n",
      "            2093,\n",
      "            1337\n",
      "          ],\n",
      "          \"right_eye\": [\n",
      "            1621,\n",
      "            1329\n",
      "          ]\n",
      "        },\n",
      "        \"face_confidence\": 0.91,\n",
      "        \"gender\": {\n",
      "          \"Woman\": 0.003376271342858672,\n",
      "          \"Man\": 99.99662637710571\n",
      "        },\n",
      "        \"dominant_gender\": \"Man\",\n",
      "        \"emotion\": {\n",
      "          \"angry\": 16.625330843051128,\n",
      "          \"disgust\": 0.00029236652531884155,\n",
      "          \"fear\": 0.5163081298058111,\n",
      "          \"happy\": 0.9760846034338834,\n",
      "          \"sad\": 75.11709780198919,\n",
      "          \"surprise\": 0.0073620224452292885,\n",
      "          \"neutral\": 6.757528737636133\n",
      "        },\n",
      "        \"dominant_emotion\": \"sad\",\n",
      "        \"race\": {\n",
      "          \"asian\": 13.985106348991394,\n",
      "          \"indian\": 22.95093983411789,\n",
      "          \"black\": 9.16120633482933,\n",
      "          \"white\": 8.584276586771011,\n",
      "          \"middle eastern\": 7.702755182981491,\n",
      "          \"latino hispanic\": 37.61571645736694\n",
      "        },\n",
      "        \"dominant_race\": \"latino hispanic\"\n",
      "      }\n",
      "    }\n",
      "  ]\n",
      "}\n"
     ]
    }
   ],
   "execution_count": 14
  },
  {
   "metadata": {},
   "cell_type": "code",
   "outputs": [],
   "execution_count": null,
   "source": "",
   "id": "f86950819e7add8a"
  }
 ],
 "metadata": {
  "kernelspec": {
   "display_name": "Python 3",
   "language": "python",
   "name": "python3"
  },
  "language_info": {
   "codemirror_mode": {
    "name": "ipython",
    "version": 2
   },
   "file_extension": ".py",
   "mimetype": "text/x-python",
   "name": "python",
   "nbconvert_exporter": "python",
   "pygments_lexer": "ipython2",
   "version": "2.7.6"
  }
 },
 "nbformat": 4,
 "nbformat_minor": 5
}
